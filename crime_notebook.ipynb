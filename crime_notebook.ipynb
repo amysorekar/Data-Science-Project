{
 "cells": [
  {
   "cell_type": "code",
   "execution_count": null,
   "metadata": {},
   "outputs": [],
   "source": [
    "import pandas as pd"
   ]
  },
  {
   "cell_type": "code",
   "execution_count": null,
   "metadata": {},
   "outputs": [],
   "source": [
    "df = pd.read_csv('crime_data.csv')"
   ]
  },
  {
   "cell_type": "code",
   "execution_count": null,
   "metadata": {},
   "outputs": [],
   "source": [
    "df.drop(columns={'DR_NO', 'Crm Cd 1', 'Crm Cd 2', 'Crm Cd 3', 'Crm Cd 4', 'Cross Street'}, inplace=True)"
   ]
  },
  {
   "cell_type": "code",
   "execution_count": null,
   "metadata": {},
   "outputs": [],
   "source": [
    "names = {\n",
    "    'DATE OCC': 'Date',\n",
    "    'Date Rptd': 'Date Reported',\n",
    "    'TIME OCC': 'Time',\n",
    "    'AREA NAME': 'Area Name',\n",
    "    'Rpt Dist No': 'Reporting District Number',\n",
    "    'Part 1-2': 'Type 1-2',\n",
    "    'Crm Cd': 'Crime Code',\n",
    "    'Crm Cd Desc': 'Crime',\n",
    "    'Vict Age': 'Victim Age',\n",
    "    'AREA': 'Area ID',\n",
    "    'Mocodes': 'MO Codes',\n",
    "    'Vict Sex': 'Victim Sex',\n",
    "    'Vict Descent': 'Victim Descent',\n",
    "    'Premis Cd': 'Premises Code',\n",
    "    'Premis Desc': 'Premises',\n",
    "    'Weapon Used Cd': 'Weapon Used Code',\n",
    "    'Weapon Desc': 'Weapon',\n",
    "    'Status Desc': 'Status Description',\n",
    "    'LOCATION': 'Location',\n",
    "    'LAT': 'Latitude',\n",
    "    'LON': 'Longitude'\n",
    "}"
   ]
  },
  {
   "cell_type": "code",
   "execution_count": null,
   "metadata": {},
   "outputs": [],
   "source": [
    "df.rename(columns=names, inplace=True)"
   ]
  },
  {
   "cell_type": "code",
   "execution_count": null,
   "metadata": {},
   "outputs": [],
   "source": [
    "df['Status Description'].replace({'Continued Investigation.':'Continued Investigation', 'Juv Arrest': 'Juvenile Arrest', 'UNK': 'Unknown', 'Juv Other': 'Juvenile Other'}, inplace=True)"
   ]
  },
  {
   "cell_type": "code",
   "execution_count": null,
   "metadata": {},
   "outputs": [],
   "source": [
    "df['Status'].replace('IC', 'CI', inplace=True)"
   ]
  },
  {
   "cell_type": "code",
   "execution_count": null,
   "metadata": {},
   "outputs": [],
   "source": [
    "df['Status'].replace('CC', 'UK', inplace=True)"
   ]
  },
  {
   "cell_type": "code",
   "execution_count": null,
   "metadata": {},
   "outputs": [],
   "source": [
    "df.head()"
   ]
  },
  {
   "cell_type": "code",
   "execution_count": null,
   "metadata": {},
   "outputs": [],
   "source": [
    "pd.set_option('display.max_columns', None)"
   ]
  },
  {
   "cell_type": "code",
   "execution_count": null,
   "metadata": {},
   "outputs": [],
   "source": [
    "df.head()"
   ]
  },
  {
   "cell_type": "code",
   "execution_count": null,
   "metadata": {},
   "outputs": [],
   "source": [
    "df['Victim Descent'].replace({'Hispanic': 'H', 'Black': 'B', 'White': 'W', 'Asian': 'A', 'Other': 'O', 'None': 'X'}, inplace=True)"
   ]
  },
  {
   "cell_type": "code",
   "execution_count": null,
   "metadata": {},
   "outputs": [],
   "source": [
    "df.head()"
   ]
  },
  {
   "cell_type": "code",
   "execution_count": null,
   "metadata": {},
   "outputs": [],
   "source": [
    "df_encoded_gender = pd.get_dummies(df, columns=['Victim Sex'])"
   ]
  },
  {
   "cell_type": "code",
   "execution_count": null,
   "metadata": {},
   "outputs": [],
   "source": [
    "df_encoded_race = pd.get_dummies(df, columns=['Victim Descent'])"
   ]
  },
  {
   "cell_type": "code",
   "execution_count": null,
   "metadata": {},
   "outputs": [],
   "source": [
    "df_encoded_gender.info()\n"
   ]
  },
  {
   "cell_type": "code",
   "execution_count": null,
   "metadata": {},
   "outputs": [],
   "source": [
    "df['Victim Sex'].unique()"
   ]
  },
  {
   "cell_type": "code",
   "execution_count": null,
   "metadata": {},
   "outputs": [],
   "source": [
    "print(df[df['Victim Sex'] == 'H'])"
   ]
  },
  {
   "cell_type": "code",
   "execution_count": null,
   "metadata": {},
   "outputs": [],
   "source": [
    "df['Victim Descent'].unique()"
   ]
  },
  {
   "cell_type": "code",
   "execution_count": null,
   "metadata": {},
   "outputs": [],
   "source": [
    "df_encoded_race.info()"
   ]
  },
  {
   "cell_type": "code",
   "execution_count": null,
   "metadata": {},
   "outputs": [],
   "source": [
    "df_encoded_race.head()"
   ]
  },
  {
   "cell_type": "code",
   "execution_count": null,
   "metadata": {},
   "outputs": [],
   "source": [
    "df.head()"
   ]
  },
  {
   "cell_type": "code",
   "execution_count": null,
   "metadata": {},
   "outputs": [],
   "source": [
    "df.info()"
   ]
  },
  {
   "cell_type": "code",
   "execution_count": null,
   "metadata": {},
   "outputs": [],
   "source": [
    "df.info()"
   ]
  },
  {
   "cell_type": "code",
   "execution_count": null,
   "metadata": {},
   "outputs": [],
   "source": [
    "df.head()"
   ]
  },
  {
   "cell_type": "code",
   "execution_count": null,
   "metadata": {},
   "outputs": [],
   "source": [
    "df_encoded_gender.info()"
   ]
  },
  {
   "cell_type": "code",
   "execution_count": null,
   "metadata": {},
   "outputs": [],
   "source": [
    "isolate = [21,23,22,24,25]\n",
    "encoded_gender = df_encoded_gender.iloc[:,isolate]"
   ]
  },
  {
   "cell_type": "code",
   "execution_count": null,
   "metadata": {},
   "outputs": [],
   "source": [
    "encoded_gender.info()"
   ]
  },
  {
   "cell_type": "code",
   "execution_count": null,
   "metadata": {},
   "outputs": [],
   "source": [
    "df = pd.concat([df, encoded_gender], axis=1)"
   ]
  },
  {
   "cell_type": "code",
   "execution_count": null,
   "metadata": {},
   "outputs": [],
   "source": [
    "isolate = [0,1,2,3,4,5,6,7,8,9,10,11,12,13,14,15,16,17,18,19,20,21]\n",
    "df = df.iloc[:,isolate]"
   ]
  },
  {
   "cell_type": "code",
   "execution_count": null,
   "metadata": {},
   "outputs": [],
   "source": [
    "df.info()"
   ]
  },
  {
   "cell_type": "code",
   "execution_count": null,
   "metadata": {},
   "outputs": [],
   "source": [
    "df.head()"
   ]
  },
  {
   "cell_type": "code",
   "execution_count": null,
   "metadata": {},
   "outputs": [],
   "source": [
    "original = pd.read_csv('crime_data.csv')"
   ]
  },
  {
   "cell_type": "code",
   "execution_count": null,
   "metadata": {},
   "outputs": [],
   "source": [
    "df['MO Codes'] = original['Mocodes']"
   ]
  },
  {
   "cell_type": "code",
   "execution_count": null,
   "metadata": {},
   "outputs": [],
   "source": [
    "df.info()"
   ]
  },
  {
   "cell_type": "code",
   "execution_count": null,
   "metadata": {},
   "outputs": [],
   "source": [
    "df.drop(columns=['Date Reported'], inplace=True)"
   ]
  },
  {
   "cell_type": "code",
   "execution_count": null,
   "metadata": {},
   "outputs": [],
   "source": [
    "df.info()"
   ]
  },
  {
   "cell_type": "code",
   "execution_count": null,
   "metadata": {},
   "outputs": [],
   "source": [
    "df.head()"
   ]
  },
  {
   "cell_type": "code",
   "execution_count": null,
   "metadata": {},
   "outputs": [],
   "source": [
    "df.info()"
   ]
  },
  {
   "cell_type": "code",
   "execution_count": null,
   "metadata": {},
   "outputs": [],
   "source": [
    "copy = df.copy()"
   ]
  },
  {
   "cell_type": "code",
   "execution_count": null,
   "metadata": {},
   "outputs": [],
   "source": [
    "copy.head()"
   ]
  },
  {
   "cell_type": "code",
   "execution_count": null,
   "metadata": {},
   "outputs": [],
   "source": [
    "copy = df.copy()"
   ]
  },
  {
   "cell_type": "code",
   "execution_count": null,
   "metadata": {},
   "outputs": [],
   "source": [
    "copy.head()"
   ]
  },
  {
   "cell_type": "code",
   "execution_count": null,
   "metadata": {},
   "outputs": [],
   "source": [
    "copy['Time'] = pd.to_datetime(copy['Time'], format='%H%M', errors='coerce').dt.time"
   ]
  },
  {
   "cell_type": "code",
   "execution_count": null,
   "metadata": {},
   "outputs": [],
   "source": [
    "copy.head()"
   ]
  },
  {
   "cell_type": "code",
   "execution_count": null,
   "metadata": {},
   "outputs": [],
   "source": [
    "copy = df.copy()\n"
   ]
  },
  {
   "cell_type": "code",
   "execution_count": null,
   "metadata": {},
   "outputs": [],
   "source": [
    "copy.head()"
   ]
  },
  {
   "cell_type": "code",
   "execution_count": null,
   "metadata": {},
   "outputs": [],
   "source": [
    "copy['Time'] = pd.to_datetime(copy['Time'], format='%H%M', errors='coerce')"
   ]
  },
  {
   "cell_type": "code",
   "execution_count": null,
   "metadata": {},
   "outputs": [],
   "source": [
    "copy.info()"
   ]
  },
  {
   "cell_type": "code",
   "execution_count": null,
   "metadata": {},
   "outputs": [],
   "source": [
    "copy.head()"
   ]
  },
  {
   "cell_type": "code",
   "execution_count": null,
   "metadata": {},
   "outputs": [],
   "source": [
    "copy['Time'] = copy['Time'].dt.time"
   ]
  },
  {
   "cell_type": "code",
   "execution_count": null,
   "metadata": {},
   "outputs": [],
   "source": [
    "copy.head()"
   ]
  },
  {
   "cell_type": "code",
   "execution_count": null,
   "metadata": {},
   "outputs": [],
   "source": [
    "copy.info()"
   ]
  },
  {
   "cell_type": "code",
   "execution_count": null,
   "metadata": {},
   "outputs": [],
   "source": [
    "copy['Crime'].unique()"
   ]
  },
  {
   "cell_type": "code",
   "execution_count": null,
   "metadata": {},
   "outputs": [],
   "source": [
    "search = 'CHILD PORNOGRAPHY'\n",
    "result = copy[copy['Crime'] == search]\n",
    "print(result)"
   ]
  },
  {
   "cell_type": "code",
   "execution_count": null,
   "metadata": {},
   "outputs": [],
   "source": [
    "copy.head()"
   ]
  },
  {
   "cell_type": "code",
   "execution_count": null,
   "metadata": {},
   "outputs": [],
   "source": [
    "print(df)"
   ]
  },
  {
   "cell_type": "code",
   "execution_count": null,
   "metadata": {},
   "outputs": [],
   "source": [
    "df.head()"
   ]
  },
  {
   "cell_type": "code",
   "execution_count": null,
   "metadata": {},
   "outputs": [],
   "source": [
    "copy = df.copy()"
   ]
  },
  {
   "cell_type": "code",
   "execution_count": null,
   "metadata": {},
   "outputs": [],
   "source": [
    "copy.head()"
   ]
  },
  {
   "cell_type": "code",
   "execution_count": null,
   "metadata": {},
   "outputs": [],
   "source": [
    "copy['Date'] = pd.to_datetime(copy['Date'])"
   ]
  },
  {
   "cell_type": "code",
   "execution_count": null,
   "metadata": {},
   "outputs": [],
   "source": [
    "copy.info()"
   ]
  },
  {
   "cell_type": "code",
   "execution_count": null,
   "metadata": {},
   "outputs": [],
   "source": [
    "copy.head()"
   ]
  },
  {
   "cell_type": "code",
   "execution_count": null,
   "metadata": {},
   "outputs": [],
   "source": [
    "import matplotlib.pyplot as plt\n",
    "\n",
    "crime_child_pornography = copy[copy['Crime'] == 'CHILD PORNOGRAPHY']\n",
    "\n",
    "plt.figure(figsize=(10, 6))\n",
    "plt.hist(crime_child_pornography['Victim Age'], bins=20, edgecolor='black', color='blue', alpha=0.5)\n",
    "\n",
    "plt.title('Age Distribution for Child Pornography Crime')\n",
    "plt.xlabel('Victim Age')\n",
    "plt.ylabel('Frequency')\n",
    "plt.xticks(range(0, max(crime_child_pornography['Victim Age']) + 1, 5))\n",
    "\n",
    "plt.show()\n"
   ]
  },
  {
   "cell_type": "code",
   "execution_count": null,
   "metadata": {},
   "outputs": [],
   "source": [
    "crime_child_pornography = copy[copy['Crime'] == 'CHILD PORNOGRAPHY']\n",
    "\n",
    "plt.figure(figsize=(10, 6))\n",
    "plt.hist(crime_child_pornography['Victim Sex'], bins=5, edgecolor='black', color='blue', alpha=0.5)\n",
    "\n",
    "plt.title('Age Distribution for Child Pornography Crime')\n",
    "plt.xlabel('Victim Sex')\n",
    "plt.ylabel('Frequency')\n",
    "\n",
    "plt.show()"
   ]
  },
  {
   "cell_type": "code",
   "execution_count": null,
   "metadata": {},
   "outputs": [],
   "source": [
    "def crime(crime, stat):\n",
    "\n",
    "    c = copy[copy['Crime'] == crime]\n",
    "    plt.figure(figsize=(10, 6))\n",
    "    plt.hist(c[stat], bins=20, edgecolor='black', color='blue', alpha=0.5)\n",
    "    plt.title(stat + 'Distribution for' + crime + 'Crime')\n",
    "    plt.xlabel('Victim Sex')\n",
    "    plt.ylabel('Frequency')\n",
    "\n",
    "    plt.show()"
   ]
  },
  {
   "cell_type": "code",
   "execution_count": null,
   "metadata": {},
   "outputs": [],
   "source": [
    "crime('CHILD PORNOGRAPHY', 'Victim Age')"
   ]
  },
  {
   "cell_type": "code",
   "execution_count": null,
   "metadata": {},
   "outputs": [],
   "source": [
    "crime('CHILD PORNOGRAPHY', 'Victim Sex')"
   ]
  },
  {
   "cell_type": "code",
   "execution_count": null,
   "metadata": {},
   "outputs": [],
   "source": [
    "crime('CHILD PORNOGRAPHY', 'Victim Descent')"
   ]
  },
  {
   "cell_type": "code",
   "execution_count": null,
   "metadata": {},
   "outputs": [],
   "source": [
    "copy['Premises'].unique()"
   ]
  },
  {
   "cell_type": "code",
   "execution_count": null,
   "metadata": {},
   "outputs": [],
   "source": [
    "filtered = copy[copy['Crime'] == 'CHILD PORNOGRAPHY']\n",
    "premises_counts = filtered['Premises'].value_counts()\n",
    "top_10_premises = premises_counts.head(10)\n",
    "print(top_10_premises)"
   ]
  },
  {
   "cell_type": "code",
   "execution_count": null,
   "metadata": {},
   "outputs": [],
   "source": [
    "def top_ten(crime, stat):\n",
    "\n",
    "    filtered = copy[copy['Crime'] == crime]\n",
    "    premises_counts = filtered[stat].value_counts()\n",
    "    top_10_premises = premises_counts.head(10)\n",
    "    print(top_10_premises)"
   ]
  },
  {
   "cell_type": "code",
   "execution_count": null,
   "metadata": {},
   "outputs": [],
   "source": [
    "top_ten('ROBBERY', 'Premises')"
   ]
  },
  {
   "cell_type": "code",
   "execution_count": null,
   "metadata": {},
   "outputs": [],
   "source": [
    "def graph_top_ten(crime, stat, data_frame, max_xtick_length=15):\n",
    "    filtered = data_frame[data_frame['Crime'] == crime]\n",
    "    premises_counts = filtered[stat].value_counts()\n",
    "    top_10_premises = premises_counts.head(10)\n",
    "    \n",
    "    # Limit xticks length\n",
    "    xtick_labels = [label[:max_xtick_length] + '...' if len(label) > max_xtick_length else label for label in top_10_premises.index]\n",
    "    \n",
    "    return top_10_premises.index, top_10_premises.values, xtick_labels"
   ]
  },
  {
   "cell_type": "code",
   "execution_count": null,
   "metadata": {},
   "outputs": [],
   "source": [
    "graph_top_ten('ROBBERY', 'Premises', copy)"
   ]
  },
  {
   "cell_type": "code",
   "execution_count": null,
   "metadata": {},
   "outputs": [],
   "source": [
    "df.head()"
   ]
  },
  {
   "cell_type": "code",
   "execution_count": null,
   "metadata": {},
   "outputs": [],
   "source": [
    "crime_lst = copy['Crime'].unique()"
   ]
  },
  {
   "cell_type": "code",
   "execution_count": null,
   "metadata": {},
   "outputs": [],
   "source": [
    "print(crime_lst[0:20])"
   ]
  },
  {
   "cell_type": "code",
   "execution_count": 93,
   "metadata": {},
   "outputs": [
    {
     "data": {
      "image/png": "[encoded data removed]",
      "text/plain": [
       "<Figure size 1800x1500 with 20 Axes>"
      ]
     },
     "metadata": {},
     "output_type": "display_data"
    },
    {
     "data": {
      "image/png": "[encoded data removed]",
      "text/plain": [
       "<Figure size 1000x600 with 1 Axes>"
      ]
     },
     "metadata": {},
     "output_type": "display_data"
    },
    {
     "ename": "TypeError",
     "evalue": "cannot unpack non-iterable NoneType object",
     "output_type": "error",
     "traceback": [
      "\u001b[1;31m---------------------------------------------------------------------------\u001b[0m",
      "\u001b[1;31mTypeError\u001b[0m                                 Traceback (most recent call last)",
      "Cell \u001b[1;32mIn[93], line 9\u001b[0m\n\u001b[0;32m      6\u001b[0m row_idx \u001b[39m=\u001b[39m idx \u001b[39m/\u001b[39m\u001b[39m/\u001b[39m num_cols\n\u001b[0;32m      7\u001b[0m col_idx \u001b[39m=\u001b[39m idx \u001b[39m%\u001b[39m num_cols\n\u001b[1;32m----> 9\u001b[0m x, y, xtick_labels \u001b[39m=\u001b[39m graph_top_ten(crime, \u001b[39m'\u001b[39m\u001b[39mPremises\u001b[39m\u001b[39m'\u001b[39m, copy)\n\u001b[0;32m     10\u001b[0m axes[row_idx, col_idx]\u001b[39m.\u001b[39mbar(x, y, color\u001b[39m=\u001b[39m\u001b[39m'\u001b[39m\u001b[39mblue\u001b[39m\u001b[39m'\u001b[39m, alpha\u001b[39m=\u001b[39m\u001b[39m0.5\u001b[39m)\n\u001b[0;32m     11\u001b[0m axes[row_idx, col_idx]\u001b[39m.\u001b[39mset_title(\u001b[39m'\u001b[39m\u001b[39mTop 10 Premises for \u001b[39m\u001b[39m'\u001b[39m \u001b[39m+\u001b[39m crime)\n",
      "\u001b[1;31mTypeError\u001b[0m: cannot unpack non-iterable NoneType object"
     ]
    }
   ],
   "source": [
    "num_rows = 5  # Number of rows in the subplot grid\n",
    "num_cols = 4  # Number of columns in the subplot grid\n",
    "fig, axes = plt.subplots(num_rows, num_cols, figsize=(18, 15))\n",
    "\n",
    "for idx, crime in enumerate(crime_lst[0:20]):\n",
    "    row_idx = idx // num_cols\n",
    "    col_idx = idx % num_cols\n",
    "    \n",
    "    x, y, xtick_labels = graph_top_ten(crime, 'Premises', copy)\n",
    "    axes[row_idx, col_idx].bar(x, y, color='blue', alpha=0.5)\n",
    "    axes[row_idx, col_idx].set_title('Top 10 Premises for ' + crime)\n",
    "    axes[row_idx, col_idx].set_xlabel('Premises')\n",
    "    axes[row_idx, col_idx].set_ylabel('Frequency')\n",
    "    axes[row_idx, col_idx].set_xticks(x)\n",
    "    axes[row_idx, col_idx].set_xticklabels(xtick_labels, rotation=45)\n",
    "\n",
    "# Remove empty subplots if the number of crimes is less than num_rows*num_cols\n",
    "for idx in range(len(crime_lst[0:20]), num_rows*num_cols):\n",
    "    row_idx = idx // num_cols\n",
    "    col_idx = idx % num_cols\n",
    "    fig.delaxes(axes[row_idx, col_idx])\n",
    "\n",
    "plt.tight_layout()\n",
    "plt.show()"
   ]
  },
  {
   "cell_type": "code",
   "execution_count": null,
   "metadata": {},
   "outputs": [],
   "source": []
  }
 ],
 "metadata": {
  "kernelspec": {
   "display_name": "Python 3",
   "language": "python",
   "name": "python3"
  },
  "language_info": {
   "codemirror_mode": {
    "name": "ipython",
    "version": 3
   },
   "file_extension": ".py",
   "mimetype": "text/x-python",
   "name": "python",
   "nbconvert_exporter": "python",
   "pygments_lexer": "ipython3",
   "version": "3.11.3"
  },
  "orig_nbformat": 4
 },
 "nbformat": 4,
 "nbformat_minor": 2
}
